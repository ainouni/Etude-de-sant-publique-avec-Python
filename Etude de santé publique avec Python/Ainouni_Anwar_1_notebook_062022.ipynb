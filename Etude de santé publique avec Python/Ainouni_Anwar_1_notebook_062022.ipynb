{
 "cells": [
  {
   "cell_type": "markdown",
   "id": "8177cc89-bd3e-4f6d-a838-243526a3b04c",
   "metadata": {
    "tags": []
   },
   "source": [
    "# P4 : Réalisation d'une étude de santé publique avec R ou Python\n",
    "\n"
   ]
  },
  {
   "cell_type": "code",
   "execution_count": 1,
   "id": "3c092793",
   "metadata": {},
   "outputs": [],
   "source": [
    "import pandas as pd\n",
    "import numpy as np\n",
    "import seaborn as sns\n",
    "import matplotlib.pyplot as plt\n",
    "%matplotlib inline\n",
    "\n",
    "# Importation des librairies"
   ]
  },
  {
   "cell_type": "code",
   "execution_count": 2,
   "id": "d24ad54e",
   "metadata": {},
   "outputs": [],
   "source": [
    "sous_nutrition = pd.read_csv('sous_nutrition.csv')\n",
    "aide_alimentaire = pd.read_csv('aide_alimentaire.csv')\n",
    "sous_nutrition['Valeur'] = sous_nutrition['Valeur'].fillna(0)\n",
    "sous_nutrition['Valeur'] = sous_nutrition['Valeur'].replace('<0.1','0').astype(\"float\")\n",
    "population = pd.read_csv('population.csv')\n",
    "dispo_alimentaire = pd.read_csv('dispo_alimentaire.csv')\n",
    "dispo_alimentaire['Disponibilité alimentaire (Kcal/personne/jour)'] = dispo_alimentaire['Disponibilité alimentaire (Kcal/personne/jour)'].fillna(0)\n",
    "dispo_alimentaire['Aliments pour animaux)'] = dispo_alimentaire['Aliments pour animaux'].fillna(0)\n",
    "dispo_alimentaire['Disponibilité intérieure)'] = dispo_alimentaire['Disponibilité intérieure'].fillna(0)\n",
    "dispo_alimentaire['Pertes)'] = dispo_alimentaire['Pertes'].fillna(0)\n",
    "dispo_alimentaire['Nourriture)'] = dispo_alimentaire['Nourriture'].fillna(0)\n",
    "sous_nutrition.columns = ['Zone','Année','pop_sous_nutrition']\n",
    "sous_nutrition['pop_sous_nutrition'] = sous_nutrition['pop_sous_nutrition']*1000000\n",
    "population.columns = ['Zone','Année','pop_totale']\n",
    "population['pop_totale'] = population['pop_totale']*1000\n",
    "\n",
    "# importation des données\n",
    "# on a changé les noms de quelques colonnes et remplacé les valeurs vides et les chaînes de caractères par 0\n",
    "\n"
   ]
  },
  {
   "cell_type": "markdown",
   "id": "0df88f1c-92eb-4dc1-8c21-630b172226b9",
   "metadata": {},
   "source": [
    "##  Les  requêtes pour Marc"
   ]
  },
  {
   "cell_type": "markdown",
   "id": "74087431-d881-48fd-bd94-9f8567ed7635",
   "metadata": {},
   "source": [
    "### la proportion de personnes en état de sous-nutrition"
   ]
  },
  {
   "cell_type": "code",
   "execution_count": 3,
   "id": "45c4cbf8",
   "metadata": {},
   "outputs": [
    {
     "name": "stdout",
     "output_type": "stream",
     "text": [
      "la proportion de personnes en état de sous-nutrition est de  7.0 %\n"
     ]
    }
   ],
   "source": [
    "nb_pop_sous_nutrition = sous_nutrition.loc[sous_nutrition['Année'] == '2016-2018', 'pop_sous_nutrition'].sum() \n",
    "nb_pop = population.loc[population['Année'] == 2017, 'pop_totale'].sum()\n",
    "proportion_sous_nutrition = (nb_pop_sous_nutrition*100/nb_pop).round()\n",
    "print('la proportion de personnes en état de sous-nutrition est de ', proportion_sous_nutrition,'%')\n",
    "\n",
    "# on a selectionné le nombre de la population en sous nutrition en 2017\n",
    "# on a selectionné le nombre de la population totale en 2017\n",
    "# la division du nombre de la population en sous_nutrition sur le nombre de la population totale nous donne la proportion de personnes en état de sous-nutrition\n"
   ]
  },
  {
   "cell_type": "code",
   "execution_count": 4,
   "id": "16664124",
   "metadata": {},
   "outputs": [
    {
     "data": {
      "text/plain": [
       "Text(0.5, 1.0, 'la proportion de personnes en état de sous-nutrition')"
      ]
     },
     "execution_count": 4,
     "metadata": {},
     "output_type": "execute_result"
    },
    {
     "data": {
      "image/png": "[encoded data removed]",
      "text/plain": [
       "<Figure size 432x288 with 1 Axes>"
      ]
     },
     "metadata": {},
     "output_type": "display_data"
    }
   ],
   "source": [
    "data=[(nb_pop-nb_pop_sous_nutrition),nb_pop_sous_nutrition]\n",
    "labels=['Reste de la population','Personnes en état de sous-nutrition']\n",
    "plt.pie(data, labels=labels, autopct='%.2f%%')\n",
    "plt.title('la proportion de personnes en état de sous-nutrition')"
   ]
  },
  {
   "cell_type": "code",
   "execution_count": null,
   "id": "1715feb0-4be6-4e36-83a1-68cbb6ba899b",
   "metadata": {},
   "outputs": [],
   "source": []
  },
  {
   "cell_type": "markdown",
   "id": "a6a39f71-eff2-4530-adb3-543f7be0d5a4",
   "metadata": {},
   "source": [
    "### Le nombre théorique de personnes qui pourraient être nourries"
   ]
  },
  {
   "cell_type": "code",
   "execution_count": 5,
   "id": "be4fda28",
   "metadata": {},
   "outputs": [
    {
     "name": "stdout",
     "output_type": "stream",
     "text": [
      "8367593851.0 est le nombre théorique de personnes qui pourraient être nourries \n"
     ]
    }
   ],
   "source": [
    "\n",
    "dispo_aliment_pays = dispo_alimentaire.groupby('Zone')[ 'Disponibilité alimentaire (Kcal/personne/jour)'].sum()\n",
    "Population2017 = population.loc[population['Année'] == 2017, ('pop_totale','Zone')]\n",
    "df_dispo_pays = pd.merge(dispo_aliment_pays, Population2017, on='Zone')\n",
    "nb_theorique_personnes_nourries=(df_dispo_pays['pop_totale']* df_dispo_pays[\"Disponibilité alimentaire (Kcal/personne/jour)\"]/(2500)).sum().round()\n",
    "print(nb_theorique_personnes_nourries,'est le nombre théorique de personnes qui pourraient être nourries ')\n",
    "\n",
    "# on a calculé la somme de la disponibilité alimentaire groupée par pays et stocké le résultat dans une variable\n",
    "# et réalisé une jointure entre la variable et la table population filtré sur les valeur de l'année 2017 en utilisant 'Zone' comme clé\n",
    "# dans le dataframe obtenu par la jointure , on calculé la somme de la multiplication du nombre de population et le nombre de disponibilité alimentaire pour chaque pays"
   ]
  },
  {
   "cell_type": "code",
   "execution_count": 6,
   "id": "fdda8d5c-6959-415a-81b6-0058b341a6ab",
   "metadata": {},
   "outputs": [
    {
     "data": {
      "text/html": [
       "<div>\n",
       "<style scoped>\n",
       "    .dataframe tbody tr th:only-of-type {\n",
       "        vertical-align: middle;\n",
       "    }\n",
       "\n",
       "    .dataframe tbody tr th {\n",
       "        vertical-align: top;\n",
       "    }\n",
       "\n",
       "    .dataframe thead th {\n",
       "        text-align: right;\n",
       "    }\n",
       "</style>\n",
       "<table border=\"1\" class=\"dataframe\">\n",
       "  <thead>\n",
       "    <tr style=\"text-align: right;\">\n",
       "      <th></th>\n",
       "      <th>Zone</th>\n",
       "      <th>Disponibilité alimentaire (Kcal/personne/jour)</th>\n",
       "      <th>pop_totale</th>\n",
       "    </tr>\n",
       "  </thead>\n",
       "  <tbody>\n",
       "    <tr>\n",
       "      <th>0</th>\n",
       "      <td>Afghanistan</td>\n",
       "      <td>2087.0</td>\n",
       "      <td>36296113.0</td>\n",
       "    </tr>\n",
       "    <tr>\n",
       "      <th>1</th>\n",
       "      <td>Afrique du Sud</td>\n",
       "      <td>3020.0</td>\n",
       "      <td>57009756.0</td>\n",
       "    </tr>\n",
       "    <tr>\n",
       "      <th>2</th>\n",
       "      <td>Albanie</td>\n",
       "      <td>3188.0</td>\n",
       "      <td>2884169.0</td>\n",
       "    </tr>\n",
       "    <tr>\n",
       "      <th>3</th>\n",
       "      <td>Algérie</td>\n",
       "      <td>3293.0</td>\n",
       "      <td>41389189.0</td>\n",
       "    </tr>\n",
       "    <tr>\n",
       "      <th>4</th>\n",
       "      <td>Allemagne</td>\n",
       "      <td>3503.0</td>\n",
       "      <td>82658409.0</td>\n",
       "    </tr>\n",
       "    <tr>\n",
       "      <th>...</th>\n",
       "      <td>...</td>\n",
       "      <td>...</td>\n",
       "      <td>...</td>\n",
       "    </tr>\n",
       "    <tr>\n",
       "      <th>167</th>\n",
       "      <td>Émirats arabes unis</td>\n",
       "      <td>3275.0</td>\n",
       "      <td>9487203.0</td>\n",
       "    </tr>\n",
       "    <tr>\n",
       "      <th>168</th>\n",
       "      <td>Équateur</td>\n",
       "      <td>2346.0</td>\n",
       "      <td>16785361.0</td>\n",
       "    </tr>\n",
       "    <tr>\n",
       "      <th>169</th>\n",
       "      <td>États-Unis d'Amérique</td>\n",
       "      <td>3682.0</td>\n",
       "      <td>325084756.0</td>\n",
       "    </tr>\n",
       "    <tr>\n",
       "      <th>170</th>\n",
       "      <td>Éthiopie</td>\n",
       "      <td>2129.0</td>\n",
       "      <td>106399924.0</td>\n",
       "    </tr>\n",
       "    <tr>\n",
       "      <th>171</th>\n",
       "      <td>Îles Salomon</td>\n",
       "      <td>2383.0</td>\n",
       "      <td>636039.0</td>\n",
       "    </tr>\n",
       "  </tbody>\n",
       "</table>\n",
       "<p>172 rows × 3 columns</p>\n",
       "</div>"
      ],
      "text/plain": [
       "                      Zone  Disponibilité alimentaire (Kcal/personne/jour)  \\\n",
       "0              Afghanistan                                          2087.0   \n",
       "1           Afrique du Sud                                          3020.0   \n",
       "2                  Albanie                                          3188.0   \n",
       "3                  Algérie                                          3293.0   \n",
       "4                Allemagne                                          3503.0   \n",
       "..                     ...                                             ...   \n",
       "167    Émirats arabes unis                                          3275.0   \n",
       "168               Équateur                                          2346.0   \n",
       "169  États-Unis d'Amérique                                          3682.0   \n",
       "170               Éthiopie                                          2129.0   \n",
       "171           Îles Salomon                                          2383.0   \n",
       "\n",
       "      pop_totale  \n",
       "0     36296113.0  \n",
       "1     57009756.0  \n",
       "2      2884169.0  \n",
       "3     41389189.0  \n",
       "4     82658409.0  \n",
       "..           ...  \n",
       "167    9487203.0  \n",
       "168   16785361.0  \n",
       "169  325084756.0  \n",
       "170  106399924.0  \n",
       "171     636039.0  \n",
       "\n",
       "[172 rows x 3 columns]"
      ]
     },
     "execution_count": 6,
     "metadata": {},
     "output_type": "execute_result"
    }
   ],
   "source": [
    "df_dispo_pays"
   ]
  },
  {
   "cell_type": "markdown",
   "id": "641fd128-042f-4696-949c-e56b9cc20f87",
   "metadata": {},
   "source": [
    "### Le nombre théorique de personnes qui pourraient être nourries en disponibilité vegetale"
   ]
  },
  {
   "cell_type": "code",
   "execution_count": 7,
   "id": "4f7718de-d66a-4632-850e-2707505306bb",
   "metadata": {},
   "outputs": [
    {
     "name": "stdout",
     "output_type": "stream",
     "text": [
      "6904305685.0 est le nombre théorique de personnes qui pourraient être nourries  en disponibilité vegetale   \n"
     ]
    }
   ],
   "source": [
    "Dispo_Vegetal = dispo_alimentaire.loc[dispo_alimentaire['Origine'] == 'vegetale', ('Disponibilité alimentaire (Kcal/personne/jour)','Zone')]\n",
    "Dispo_Vegetal_Pays = Dispo_Vegetal.groupby('Zone')[ 'Disponibilité alimentaire (Kcal/personne/jour)'].sum()\n",
    "Population2017 = population.loc[population['Année'] == 2017, ('pop_totale','Zone')]\n",
    "df_Dispo_Vegetal = pd.merge(Dispo_Vegetal_Pays, Population2017 , on='Zone')\n",
    "nb_theorique_personnes_nourries_vegetale=(df_Dispo_Vegetal['pop_totale']* df_Dispo_Vegetal[\"Disponibilité alimentaire (Kcal/personne/jour)\"]/2500).sum().round()\n",
    "print(nb_theorique_personnes_nourries_vegetale,'est le nombre théorique de personnes qui pourraient être nourries  en disponibilité vegetale   ')\n",
    "\n",
    "# même démarche que la requête précédente, juste on ajoute la condition 'vegetale à la colonne 'Origine' quand on a effectué la somme des disponibilité alimentaire groupé par pays\n",
    "# 6904305685.0"
   ]
  },
  {
   "cell_type": "markdown",
   "id": "75190179-f4de-47f1-8b93-1da03d8c4408",
   "metadata": {},
   "source": [
    "### Quelques proportions par rapport à l'utilisation de la disponibilité intérieure"
   ]
  },
  {
   "cell_type": "code",
   "execution_count": 8,
   "id": "926c44ab",
   "metadata": {},
   "outputs": [
    {
     "name": "stdout",
     "output_type": "stream",
     "text": [
      "l’alimentation animale presente 13.0 % de l’utilisation de la disponibilité intérieure \n",
      "les pertes presentent 5.0 % de l’utilisation de la disponibilité intérieure \n",
      "la nourriture presente 50.0 % de l’utilisation de la disponibilité intérieure \n"
     ]
    }
   ],
   "source": [
    "disponibilité_intérieure = dispo_alimentaire['Disponibilité intérieure'].sum()\n",
    "dispo_aliments_animaux = dispo_alimentaire['Aliments pour animaux'].sum()\n",
    "dispo_pertes = dispo_alimentaire['Pertes'].sum()\n",
    "dispo_nourriture = dispo_alimentaire['Nourriture'].sum()\n",
    "proportion_dispo_aliments_animaux = (dispo_aliments_animaux*100/disponibilité_intérieure).round()\n",
    "print('l’alimentation animale presente', proportion_dispo_aliments_animaux,'% de l’utilisation de la disponibilité intérieure ')\n",
    "proportion_dispo_pertes = (dispo_pertes*100/disponibilité_intérieure).round()\n",
    "print('les pertes presentent', proportion_dispo_pertes,'% de l’utilisation de la disponibilité intérieure ')\n",
    "proportion_dispo_nourriture = (dispo_nourriture*100/disponibilité_intérieure).round()\n",
    "print('la nourriture presente', proportion_dispo_nourriture,'% de l’utilisation de la disponibilité intérieure ')\n",
    "\n",
    "# on a calculé la somme des quantité utilisé pour l'alimentation humaine et animales ainsi que les pertes, et en divisant chacune sur la disponibilité intérieure, on obtient les proportions.\n",
    "# dispo interieur = alimentaion animal + pertes + semences + nourriture + traitement\n"
   ]
  },
  {
   "cell_type": "code",
   "execution_count": 9,
   "id": "c9fef32c-0f8c-4214-ab45-4fb4b6d76b05",
   "metadata": {},
   "outputs": [
    {
     "data": {
      "text/plain": [
       "Text(0.5, 1.0, 'utilisation de la disponibilité intérieure')"
      ]
     },
     "execution_count": 9,
     "metadata": {},
     "output_type": "execute_result"
    },
    {
     "data": {
      "image/png": "[encoded data removed]",
      "text/plain": [
       "<Figure size 432x288 with 1 Axes>"
      ]
     },
     "metadata": {},
     "output_type": "display_data"
    }
   ],
   "source": [
    "data=[proportion_dispo_pertes,proportion_dispo_aliments_animaux,proportion_dispo_nourriture,32]\n",
    "labels=['les pertes','l’alimentation animale','la nourriture','autre']\n",
    "plt.pie(data, labels=labels, autopct='%.2f%%')\n",
    "plt.title('utilisation de la disponibilité intérieure')"
   ]
  },
  {
   "cell_type": "code",
   "execution_count": null,
   "id": "6fb4ced8-a0c7-4cd9-a535-052ec1e5f671",
   "metadata": {},
   "outputs": [],
   "source": []
  },
  {
   "cell_type": "markdown",
   "id": "f19a5c8f-2620-4460-868b-571215f04b09",
   "metadata": {
    "tags": []
   },
   "source": [
    "##  Les  requêtes pour Mélanie"
   ]
  },
  {
   "cell_type": "markdown",
   "id": "e63badd9-3978-4960-a23f-7f790cbcaf09",
   "metadata": {},
   "source": [
    "### La proportion de personnes sous-alimentées, la plus forte en 2017"
   ]
  },
  {
   "cell_type": "code",
   "execution_count": 10,
   "id": "64fc6416",
   "metadata": {},
   "outputs": [
    {
     "data": {
      "image/png": "[encoded data removed]",
      "text/plain": [
       "<Figure size 432x288 with 1 Axes>"
      ]
     },
     "metadata": {
      "needs_background": "light"
     },
     "output_type": "display_data"
    },
    {
     "data": {
      "text/plain": [
       "Zone\n",
       "Haïti                                         48.0\n",
       "République populaire démocratique de Corée    47.0\n",
       "Madagascar                                    41.0\n",
       "Libéria                                       38.0\n",
       "Lesotho                                       38.0\n",
       "                                              ... \n",
       "Kazakhstan                                     0.0\n",
       "Japon                                          0.0\n",
       "Italie                                         0.0\n",
       "Israël                                         0.0\n",
       "Îles Salomon                                   0.0\n",
       "Name: pourcentage, Length: 203, dtype: float64"
      ]
     },
     "execution_count": 10,
     "metadata": {},
     "output_type": "execute_result"
    }
   ],
   "source": [
    "\n",
    "nb_pop_sous_nutrition_2017= sous_nutrition.loc[sous_nutrition['Année'] == '2016-2018', ('pop_sous_nutrition','Année','Zone')]\n",
    "nb_pop_totale_2017 = population.loc[population['Année'] == 2017, ('pop_totale','Zone')]\n",
    "fusion_population_sous_nutrition = pd.merge(nb_pop_sous_nutrition_2017, nb_pop_totale_2017, on='Zone')\n",
    "fusion_population_sous_nutrition['pourcentage']= (fusion_population_sous_nutrition['pop_sous_nutrition']*100)/fusion_population_sous_nutrition['pop_totale']\n",
    "fusion_population_sous_nutrition.sort_values('pourcentage', ascending = False)\n",
    "fusion_population_sous_nutrition.groupby('Zone')[ 'pourcentage'].sum().sort_values(ascending   = False)\n",
    "\n",
    "data_sorted = fusion_population_sous_nutrition.sort_values('pourcentage', ascending=False).head(10)\n",
    "plt.bar(data_sorted['Zone'], data_sorted['pourcentage'])\n",
    "plt.xticks(rotation=90)\n",
    "plt.title('La proportion de personnes sous-alimentées par pays')\n",
    "plt.xlabel(\"Pays\")\n",
    "plt.ylabel(\"Proportion %\")\n",
    "plt.show()\n",
    "fusion_population_sous_nutrition.groupby('Zone')[ 'pourcentage'].sum().sort_values(ascending   = False).round()\n",
    "\n",
    "# on a joint la table population et sous nutrition avec la clé 'zone',\n",
    "# sur les deux tables, on a mis la condition année 2017 avant de les joindre\n",
    "# la division du nombre de population en sous-nutrition sur le nombre de population totale pour chaque pays nous donne le pourcentage de personnes sous-alimentes\n",
    "# on a classé le résultat par ordre descendant"
   ]
  },
  {
   "cell_type": "markdown",
   "id": "562a92fa-0fc1-43e4-bcb1-74852915083b",
   "metadata": {},
   "source": [
    "### les pays qui ont le plus bénéficié d’aide depuis 2013"
   ]
  },
  {
   "cell_type": "code",
   "execution_count": 11,
   "id": "d94f35cb",
   "metadata": {},
   "outputs": [
    {
     "data": {
      "image/png": "[encoded data removed]",
      "text/plain": [
       "<Figure size 432x288 with 1 Axes>"
      ]
     },
     "metadata": {
      "needs_background": "light"
     },
     "output_type": "display_data"
    },
    {
     "data": {
      "text/html": [
       "<div>\n",
       "<style scoped>\n",
       "    .dataframe tbody tr th:only-of-type {\n",
       "        vertical-align: middle;\n",
       "    }\n",
       "\n",
       "    .dataframe tbody tr th {\n",
       "        vertical-align: top;\n",
       "    }\n",
       "\n",
       "    .dataframe thead th {\n",
       "        text-align: right;\n",
       "    }\n",
       "</style>\n",
       "<table border=\"1\" class=\"dataframe\">\n",
       "  <thead>\n",
       "    <tr style=\"text-align: right;\">\n",
       "      <th></th>\n",
       "      <th>Pays bénéficiaire</th>\n",
       "      <th>Valeur</th>\n",
       "    </tr>\n",
       "  </thead>\n",
       "  <tbody>\n",
       "    <tr>\n",
       "      <th>50</th>\n",
       "      <td>République arabe syrienne</td>\n",
       "      <td>1858943</td>\n",
       "    </tr>\n",
       "    <tr>\n",
       "      <th>75</th>\n",
       "      <td>Éthiopie</td>\n",
       "      <td>1381294</td>\n",
       "    </tr>\n",
       "    <tr>\n",
       "      <th>70</th>\n",
       "      <td>Yémen</td>\n",
       "      <td>1206484</td>\n",
       "    </tr>\n",
       "    <tr>\n",
       "      <th>61</th>\n",
       "      <td>Soudan du Sud</td>\n",
       "      <td>695248</td>\n",
       "    </tr>\n",
       "    <tr>\n",
       "      <th>60</th>\n",
       "      <td>Soudan</td>\n",
       "      <td>669784</td>\n",
       "    </tr>\n",
       "    <tr>\n",
       "      <th>30</th>\n",
       "      <td>Kenya</td>\n",
       "      <td>552836</td>\n",
       "    </tr>\n",
       "    <tr>\n",
       "      <th>3</th>\n",
       "      <td>Bangladesh</td>\n",
       "      <td>348188</td>\n",
       "    </tr>\n",
       "    <tr>\n",
       "      <th>59</th>\n",
       "      <td>Somalie</td>\n",
       "      <td>292678</td>\n",
       "    </tr>\n",
       "    <tr>\n",
       "      <th>53</th>\n",
       "      <td>République démocratique du Congo</td>\n",
       "      <td>288502</td>\n",
       "    </tr>\n",
       "    <tr>\n",
       "      <th>43</th>\n",
       "      <td>Niger</td>\n",
       "      <td>276344</td>\n",
       "    </tr>\n",
       "  </tbody>\n",
       "</table>\n",
       "</div>"
      ],
      "text/plain": [
       "                   Pays bénéficiaire   Valeur\n",
       "50         République arabe syrienne  1858943\n",
       "75                          Éthiopie  1381294\n",
       "70                             Yémen  1206484\n",
       "61                     Soudan du Sud   695248\n",
       "60                            Soudan   669784\n",
       "30                             Kenya   552836\n",
       "3                         Bangladesh   348188\n",
       "59                           Somalie   292678\n",
       "53  République démocratique du Congo   288502\n",
       "43                             Niger   276344"
      ]
     },
     "execution_count": 11,
     "metadata": {},
     "output_type": "execute_result"
    }
   ],
   "source": [
    "\n",
    "plus_aide_alimentaire = aide_alimentaire.groupby('Pays bénéficiaire',as_index= False)[ 'Valeur'].sum()\n",
    "data_sorted1 = plus_aide_alimentaire.sort_values('Valeur', ascending=False).head(10)\n",
    "plt.bar(data_sorted1['Pays bénéficiaire'], data_sorted1['Valeur'])\n",
    "plt.xticks(rotation=90)\n",
    "plt.title('Pays beneficiant le plus d aide alimentaire depuis 2013')\n",
    "plt.xlabel(\"Pays\")\n",
    "plt.ylabel(\"Quantité d'aide alimentaire en tonnes en centaine de milliers \")\n",
    "plt.show()\n",
    "\n",
    "# on a calculé la somme des valeurs d'aide pour chaque pays\n",
    "# les résultats sont classé par ordre décroissant\n",
    "\n",
    "data_sorted1"
   ]
  },
  {
   "cell_type": "code",
   "execution_count": 12,
   "id": "1b969f91-451f-4aa5-8917-9800a6bba75b",
   "metadata": {},
   "outputs": [
    {
     "data": {
      "text/html": [
       "<div>\n",
       "<style scoped>\n",
       "    .dataframe tbody tr th:only-of-type {\n",
       "        vertical-align: middle;\n",
       "    }\n",
       "\n",
       "    .dataframe tbody tr th {\n",
       "        vertical-align: top;\n",
       "    }\n",
       "\n",
       "    .dataframe thead th {\n",
       "        text-align: right;\n",
       "    }\n",
       "</style>\n",
       "<table border=\"1\" class=\"dataframe\">\n",
       "  <thead>\n",
       "    <tr style=\"text-align: right;\">\n",
       "      <th></th>\n",
       "      <th>Pays bénéficiaire</th>\n",
       "      <th>Valeur</th>\n",
       "    </tr>\n",
       "  </thead>\n",
       "  <tbody>\n",
       "    <tr>\n",
       "      <th>0</th>\n",
       "      <td>Afghanistan</td>\n",
       "      <td>185452</td>\n",
       "    </tr>\n",
       "    <tr>\n",
       "      <th>1</th>\n",
       "      <td>Algérie</td>\n",
       "      <td>81114</td>\n",
       "    </tr>\n",
       "    <tr>\n",
       "      <th>2</th>\n",
       "      <td>Angola</td>\n",
       "      <td>5014</td>\n",
       "    </tr>\n",
       "    <tr>\n",
       "      <th>3</th>\n",
       "      <td>Bangladesh</td>\n",
       "      <td>348188</td>\n",
       "    </tr>\n",
       "    <tr>\n",
       "      <th>4</th>\n",
       "      <td>Bhoutan</td>\n",
       "      <td>2666</td>\n",
       "    </tr>\n",
       "    <tr>\n",
       "      <th>...</th>\n",
       "      <td>...</td>\n",
       "      <td>...</td>\n",
       "    </tr>\n",
       "    <tr>\n",
       "      <th>71</th>\n",
       "      <td>Zambie</td>\n",
       "      <td>3026</td>\n",
       "    </tr>\n",
       "    <tr>\n",
       "      <th>72</th>\n",
       "      <td>Zimbabwe</td>\n",
       "      <td>62570</td>\n",
       "    </tr>\n",
       "    <tr>\n",
       "      <th>73</th>\n",
       "      <td>Égypte</td>\n",
       "      <td>1122</td>\n",
       "    </tr>\n",
       "    <tr>\n",
       "      <th>74</th>\n",
       "      <td>Équateur</td>\n",
       "      <td>1362</td>\n",
       "    </tr>\n",
       "    <tr>\n",
       "      <th>75</th>\n",
       "      <td>Éthiopie</td>\n",
       "      <td>1381294</td>\n",
       "    </tr>\n",
       "  </tbody>\n",
       "</table>\n",
       "<p>76 rows × 2 columns</p>\n",
       "</div>"
      ],
      "text/plain": [
       "   Pays bénéficiaire   Valeur\n",
       "0        Afghanistan   185452\n",
       "1            Algérie    81114\n",
       "2             Angola     5014\n",
       "3         Bangladesh   348188\n",
       "4            Bhoutan     2666\n",
       "..               ...      ...\n",
       "71            Zambie     3026\n",
       "72          Zimbabwe    62570\n",
       "73            Égypte     1122\n",
       "74          Équateur     1362\n",
       "75          Éthiopie  1381294\n",
       "\n",
       "[76 rows x 2 columns]"
      ]
     },
     "execution_count": 12,
     "metadata": {},
     "output_type": "execute_result"
    }
   ],
   "source": [
    "plus_aide_alimentaire"
   ]
  },
  {
   "cell_type": "markdown",
   "id": "380c1394-3000-4a37-bcff-9b7c271a87c8",
   "metadata": {},
   "source": [
    "### les pays ayant le moins de disponibilité/habitant"
   ]
  },
  {
   "cell_type": "code",
   "execution_count": 13,
   "id": "ff89bfe3",
   "metadata": {},
   "outputs": [
    {
     "data": {
      "image/png": "[encoded data removed]",
      "text/plain": [
       "<Figure size 432x288 with 1 Axes>"
      ]
     },
     "metadata": {
      "needs_background": "light"
     },
     "output_type": "display_data"
    },
    {
     "data": {
      "text/html": [
       "<div>\n",
       "<style scoped>\n",
       "    .dataframe tbody tr th:only-of-type {\n",
       "        vertical-align: middle;\n",
       "    }\n",
       "\n",
       "    .dataframe tbody tr th {\n",
       "        vertical-align: top;\n",
       "    }\n",
       "\n",
       "    .dataframe thead th {\n",
       "        text-align: right;\n",
       "    }\n",
       "</style>\n",
       "<table border=\"1\" class=\"dataframe\">\n",
       "  <thead>\n",
       "    <tr style=\"text-align: right;\">\n",
       "      <th></th>\n",
       "      <th>Zone</th>\n",
       "      <th>Disponibilité alimentaire (Kcal/personne/jour)</th>\n",
       "    </tr>\n",
       "  </thead>\n",
       "  <tbody>\n",
       "    <tr>\n",
       "      <th>128</th>\n",
       "      <td>République centrafricaine</td>\n",
       "      <td>1879.0</td>\n",
       "    </tr>\n",
       "    <tr>\n",
       "      <th>166</th>\n",
       "      <td>Zambie</td>\n",
       "      <td>1924.0</td>\n",
       "    </tr>\n",
       "    <tr>\n",
       "      <th>91</th>\n",
       "      <td>Madagascar</td>\n",
       "      <td>2056.0</td>\n",
       "    </tr>\n",
       "    <tr>\n",
       "      <th>0</th>\n",
       "      <td>Afghanistan</td>\n",
       "      <td>2087.0</td>\n",
       "    </tr>\n",
       "    <tr>\n",
       "      <th>65</th>\n",
       "      <td>Haïti</td>\n",
       "      <td>2089.0</td>\n",
       "    </tr>\n",
       "    <tr>\n",
       "      <th>133</th>\n",
       "      <td>République populaire démocratique de Corée</td>\n",
       "      <td>2093.0</td>\n",
       "    </tr>\n",
       "    <tr>\n",
       "      <th>151</th>\n",
       "      <td>Tchad</td>\n",
       "      <td>2109.0</td>\n",
       "    </tr>\n",
       "    <tr>\n",
       "      <th>167</th>\n",
       "      <td>Zimbabwe</td>\n",
       "      <td>2113.0</td>\n",
       "    </tr>\n",
       "    <tr>\n",
       "      <th>114</th>\n",
       "      <td>Ouganda</td>\n",
       "      <td>2126.0</td>\n",
       "    </tr>\n",
       "    <tr>\n",
       "      <th>154</th>\n",
       "      <td>Timor-Leste</td>\n",
       "      <td>2129.0</td>\n",
       "    </tr>\n",
       "  </tbody>\n",
       "</table>\n",
       "</div>"
      ],
      "text/plain": [
       "                                           Zone  \\\n",
       "128                   République centrafricaine   \n",
       "166                                      Zambie   \n",
       "91                                   Madagascar   \n",
       "0                                   Afghanistan   \n",
       "65                                        Haïti   \n",
       "133  République populaire démocratique de Corée   \n",
       "151                                       Tchad   \n",
       "167                                    Zimbabwe   \n",
       "114                                     Ouganda   \n",
       "154                                 Timor-Leste   \n",
       "\n",
       "     Disponibilité alimentaire (Kcal/personne/jour)  \n",
       "128                                          1879.0  \n",
       "166                                          1924.0  \n",
       "91                                           2056.0  \n",
       "0                                            2087.0  \n",
       "65                                           2089.0  \n",
       "133                                          2093.0  \n",
       "151                                          2109.0  \n",
       "167                                          2113.0  \n",
       "114                                          2126.0  \n",
       "154                                          2129.0  "
      ]
     },
     "execution_count": 13,
     "metadata": {},
     "output_type": "execute_result"
    }
   ],
   "source": [
    "\n",
    "moins_dispo_alimentaire = dispo_alimentaire.groupby('Zone',as_index= False)[ 'Disponibilité alimentaire (Kcal/personne/jour)'].sum()\n",
    "data_sorted2 = moins_dispo_alimentaire.sort_values('Disponibilité alimentaire (Kcal/personne/jour)', ascending=True).head(10)\n",
    "plt.bar(data_sorted2['Zone'], data_sorted2['Disponibilité alimentaire (Kcal/personne/jour)'])\n",
    "plt.xticks(rotation=90)\n",
    "plt.title('Les pays ayant le moins disponibilité alimentaire par habitant')\n",
    "plt.xlabel(\"Pays\")\n",
    "plt.ylabel(\"Disponibilité alimentaire (Kcal/personne/jour)\")\n",
    "plt.show()\n",
    "data_sorted2[['Zone','Disponibilité alimentaire (Kcal/personne/jour)']].head(10)\n",
    "\n",
    "# on a calculé la somme des disponibilités alimentaires groupée par pays, et on a classé les résultats par ordre croissant. \n"
   ]
  },
  {
   "cell_type": "markdown",
   "id": "a7932197-1bd5-48fd-9ac6-741aed33e126",
   "metadata": {},
   "source": [
    "### les pays ayant le plus de disponibilité/habitant"
   ]
  },
  {
   "cell_type": "code",
   "execution_count": 14,
   "id": "eefdcc9d",
   "metadata": {},
   "outputs": [
    {
     "data": {
      "image/png": "[encoded data removed]",
      "text/plain": [
       "<Figure size 432x288 with 1 Axes>"
      ]
     },
     "metadata": {
      "needs_background": "light"
     },
     "output_type": "display_data"
    },
    {
     "data": {
      "text/html": [
       "<div>\n",
       "<style scoped>\n",
       "    .dataframe tbody tr th:only-of-type {\n",
       "        vertical-align: middle;\n",
       "    }\n",
       "\n",
       "    .dataframe tbody tr th {\n",
       "        vertical-align: top;\n",
       "    }\n",
       "\n",
       "    .dataframe thead th {\n",
       "        text-align: right;\n",
       "    }\n",
       "</style>\n",
       "<table border=\"1\" class=\"dataframe\">\n",
       "  <thead>\n",
       "    <tr style=\"text-align: right;\">\n",
       "      <th></th>\n",
       "      <th>Zone</th>\n",
       "      <th>Disponibilité alimentaire (Kcal/personne/jour)</th>\n",
       "    </tr>\n",
       "  </thead>\n",
       "  <tbody>\n",
       "    <tr>\n",
       "      <th>11</th>\n",
       "      <td>Autriche</td>\n",
       "      <td>3770.0</td>\n",
       "    </tr>\n",
       "    <tr>\n",
       "      <th>16</th>\n",
       "      <td>Belgique</td>\n",
       "      <td>3737.0</td>\n",
       "    </tr>\n",
       "    <tr>\n",
       "      <th>159</th>\n",
       "      <td>Turquie</td>\n",
       "      <td>3708.0</td>\n",
       "    </tr>\n",
       "    <tr>\n",
       "      <th>171</th>\n",
       "      <td>États-Unis d'Amérique</td>\n",
       "      <td>3682.0</td>\n",
       "    </tr>\n",
       "    <tr>\n",
       "      <th>74</th>\n",
       "      <td>Israël</td>\n",
       "      <td>3610.0</td>\n",
       "    </tr>\n",
       "    <tr>\n",
       "      <th>72</th>\n",
       "      <td>Irlande</td>\n",
       "      <td>3602.0</td>\n",
       "    </tr>\n",
       "    <tr>\n",
       "      <th>75</th>\n",
       "      <td>Italie</td>\n",
       "      <td>3578.0</td>\n",
       "    </tr>\n",
       "    <tr>\n",
       "      <th>89</th>\n",
       "      <td>Luxembourg</td>\n",
       "      <td>3540.0</td>\n",
       "    </tr>\n",
       "    <tr>\n",
       "      <th>168</th>\n",
       "      <td>Égypte</td>\n",
       "      <td>3518.0</td>\n",
       "    </tr>\n",
       "    <tr>\n",
       "      <th>4</th>\n",
       "      <td>Allemagne</td>\n",
       "      <td>3503.0</td>\n",
       "    </tr>\n",
       "  </tbody>\n",
       "</table>\n",
       "</div>"
      ],
      "text/plain": [
       "                      Zone  Disponibilité alimentaire (Kcal/personne/jour)\n",
       "11                Autriche                                          3770.0\n",
       "16                Belgique                                          3737.0\n",
       "159                Turquie                                          3708.0\n",
       "171  États-Unis d'Amérique                                          3682.0\n",
       "74                  Israël                                          3610.0\n",
       "72                 Irlande                                          3602.0\n",
       "75                  Italie                                          3578.0\n",
       "89              Luxembourg                                          3540.0\n",
       "168                 Égypte                                          3518.0\n",
       "4                Allemagne                                          3503.0"
      ]
     },
     "execution_count": 14,
     "metadata": {},
     "output_type": "execute_result"
    }
   ],
   "source": [
    "\n",
    "plus_dispo_alimentaire = dispo_alimentaire.groupby('Zone',as_index= False)[ 'Disponibilité alimentaire (Kcal/personne/jour)'].sum()\n",
    "data_sorted3 = moins_dispo_alimentaire.sort_values('Disponibilité alimentaire (Kcal/personne/jour)', ascending=False).head(10)\n",
    "plt.bar(data_sorted3['Zone'], data_sorted3['Disponibilité alimentaire (Kcal/personne/jour)'])\n",
    "plt.xticks(rotation=90)\n",
    "plt.title('Les pays ayant le plus disponibilité alimentaire par habitant')\n",
    "plt.xlabel(\"Pays\")\n",
    "plt.ylabel(\"Disponibilité alimentaire (Kcal/personne/jour)\")\n",
    "plt.show()\n",
    "\n",
    "data_sorted3[0:10]\n",
    "\n",
    "# on a calculé la somme des disponibilités alimentaires groupée par pays, et on a classé les résultats par ordre décroissant. "
   ]
  },
  {
   "cell_type": "code",
   "execution_count": null,
   "id": "18092565-af52-4343-a44b-f5e926a8267c",
   "metadata": {},
   "outputs": [],
   "source": []
  },
  {
   "cell_type": "markdown",
   "id": "bf2c0e2b-e9b4-4ca6-af2b-a503ae6e0d04",
   "metadata": {},
   "source": [
    "### Proportion de l'exportation de l'ukraine et de la russie de blé"
   ]
  },
  {
   "cell_type": "code",
   "execution_count": 15,
   "id": "04c427c7-c663-44b8-bcc5-775f64ed33b3",
   "metadata": {},
   "outputs": [
    {
     "name": "stdout",
     "output_type": "stream",
     "text": [
      "11.0 % est la proportion de l'exportation de l'ukraine et de la russie de blé par rapport à l'exportation mondial \n"
     ]
    }
   ],
   "source": [
    "\n",
    "export_blé_ukraine_russie = dispo_alimentaire.loc[((dispo_alimentaire['Zone'].isin(('Fédération de Russie','Ukraine'))  ) &( dispo_alimentaire['Produit'] == 'Blé')), ('Exportations - Quantité','Zone')].sum()\n",
    "export_blé = dispo_alimentaire.loc[dispo_alimentaire['Produit'] == 'Blé', ('Exportations - Quantité','Zone')].sum()\n",
    "prop_export_russie_ukraine_blé = export_blé_ukraine_russie['Exportations - Quantité']*100/export_blé['Exportations - Quantité']\n",
    "print((prop_export_russie_ukraine_blé).round(),\"% est la proportion de l'exportation de l'ukraine et de la russie de blé par rapport à l'exportation mondial \")            \n",
    "\n",
    "# on calculé la somme des exportation de blé de l'Ukraine et de la Russie on utilisant deux conditions\n",
    "# la division du résultat obtenu sur la somme des exportations totale du blé, on obtient la proportion l'exportation de ces deux pays."
   ]
  },
  {
   "cell_type": "code",
   "execution_count": 16,
   "id": "3b11263e-2f46-442e-a264-cbc1055100e7",
   "metadata": {},
   "outputs": [
    {
     "data": {
      "text/plain": [
       "Text(0.5, 1.0, 'Proportion de l exportation de l Ukraine et de la Russie de blé')"
      ]
     },
     "execution_count": 16,
     "metadata": {},
     "output_type": "execute_result"
    },
    {
     "data": {
      "image/png": "[encoded data removed]",
      "text/plain": [
       "<Figure size 432x288 with 1 Axes>"
      ]
     },
     "metadata": {},
     "output_type": "display_data"
    }
   ],
   "source": [
    "dataExportBléRuUkr=[(export_blé['Exportations - Quantité']-export_blé_ukraine_russie['Exportations - Quantité']),export_blé_ukraine_russie['Exportations - Quantité']]\n",
    "labels=['reste du monde','Ukraine et la Russie']\n",
    "plt.pie(dataExportBléRuUkr, labels=labels, autopct='%.2f%%')\n",
    "plt.title('Proportion de l exportation de l Ukraine et de la Russie de blé')"
   ]
  },
  {
   "cell_type": "markdown",
   "id": "122283a9-4550-4284-ac98-eaf02ee5b194",
   "metadata": {},
   "source": [
    "### Pertes en milliers de tonnes par pays"
   ]
  },
  {
   "cell_type": "code",
   "execution_count": 17,
   "id": "8bc31282-b2c1-443c-9267-2cdc9e957b0f",
   "metadata": {},
   "outputs": [
    {
     "data": {
      "image/png": "[encoded data removed]",
      "text/plain": [
       "<Figure size 432x288 with 1 Axes>"
      ]
     },
     "metadata": {
      "needs_background": "light"
     },
     "output_type": "display_data"
    },
    {
     "data": {
      "text/html": [
       "<div>\n",
       "<style scoped>\n",
       "    .dataframe tbody tr th:only-of-type {\n",
       "        vertical-align: middle;\n",
       "    }\n",
       "\n",
       "    .dataframe tbody tr th {\n",
       "        vertical-align: top;\n",
       "    }\n",
       "\n",
       "    .dataframe thead th {\n",
       "        text-align: right;\n",
       "    }\n",
       "</style>\n",
       "<table border=\"1\" class=\"dataframe\">\n",
       "  <thead>\n",
       "    <tr style=\"text-align: right;\">\n",
       "      <th></th>\n",
       "      <th>Zone</th>\n",
       "      <th>Pertes</th>\n",
       "    </tr>\n",
       "  </thead>\n",
       "  <tbody>\n",
       "    <tr>\n",
       "      <th>36</th>\n",
       "      <td>Chine, continentale</td>\n",
       "      <td>89575.0</td>\n",
       "    </tr>\n",
       "    <tr>\n",
       "      <th>23</th>\n",
       "      <td>Brésil</td>\n",
       "      <td>75914.0</td>\n",
       "    </tr>\n",
       "    <tr>\n",
       "      <th>68</th>\n",
       "      <td>Inde</td>\n",
       "      <td>55930.0</td>\n",
       "    </tr>\n",
       "    <tr>\n",
       "      <th>108</th>\n",
       "      <td>Nigéria</td>\n",
       "      <td>19854.0</td>\n",
       "    </tr>\n",
       "    <tr>\n",
       "      <th>69</th>\n",
       "      <td>Indonésie</td>\n",
       "      <td>13081.0</td>\n",
       "    </tr>\n",
       "    <tr>\n",
       "      <th>159</th>\n",
       "      <td>Turquie</td>\n",
       "      <td>12036.0</td>\n",
       "    </tr>\n",
       "    <tr>\n",
       "      <th>100</th>\n",
       "      <td>Mexique</td>\n",
       "      <td>8289.0</td>\n",
       "    </tr>\n",
       "    <tr>\n",
       "      <th>168</th>\n",
       "      <td>Égypte</td>\n",
       "      <td>7608.0</td>\n",
       "    </tr>\n",
       "    <tr>\n",
       "      <th>57</th>\n",
       "      <td>Ghana</td>\n",
       "      <td>7442.0</td>\n",
       "    </tr>\n",
       "    <tr>\n",
       "      <th>171</th>\n",
       "      <td>États-Unis d'Amérique</td>\n",
       "      <td>7162.0</td>\n",
       "    </tr>\n",
       "  </tbody>\n",
       "</table>\n",
       "</div>"
      ],
      "text/plain": [
       "                      Zone   Pertes\n",
       "36     Chine, continentale  89575.0\n",
       "23                  Brésil  75914.0\n",
       "68                    Inde  55930.0\n",
       "108                Nigéria  19854.0\n",
       "69               Indonésie  13081.0\n",
       "159                Turquie  12036.0\n",
       "100                Mexique   8289.0\n",
       "168                 Égypte   7608.0\n",
       "57                   Ghana   7442.0\n",
       "171  États-Unis d'Amérique   7162.0"
      ]
     },
     "execution_count": 17,
     "metadata": {},
     "output_type": "execute_result"
    }
   ],
   "source": [
    "Pertes_Pays = dispo_alimentaire.groupby('Zone',as_index= False)[ 'Pertes'].sum()                             \n",
    "data_sorted9 = Pertes_Pays.sort_values('Pertes', ascending=False).head(10)\n",
    "plt.bar(data_sorted9['Zone'], data_sorted9['Pertes'])\n",
    "\n",
    "plt.xticks(rotation=90)\n",
    "plt.title('Pertes en milliers de tonnes par pays')\n",
    "plt.xlabel(\"Pays\")\n",
    "plt.ylabel(\"Pertes en milliers de tonnes\")\n",
    "plt.show()\n",
    "\n",
    "# on a selectionné les pays avec le plus de pertes de dispo_alimentaire\n",
    "\n",
    "data_sorted9[0:20] \n",
    "\n"
   ]
  },
  {
   "cell_type": "markdown",
   "id": "0363a94d-6c22-4860-a01e-daacd31aaec5",
   "metadata": {},
   "source": [
    "### Proportion des pertes par rapport à la disponibilité interieure par pays"
   ]
  },
  {
   "cell_type": "code",
   "execution_count": 18,
   "id": "5165051f-e6e4-461d-b2d3-c2ef5bef1d82",
   "metadata": {},
   "outputs": [
    {
     "data": {
      "image/png": "[encoded data removed]",
      "text/plain": [
       "<Figure size 432x288 with 1 Axes>"
      ]
     },
     "metadata": {
      "needs_background": "light"
     },
     "output_type": "display_data"
    },
    {
     "data": {
      "text/html": [
       "<div>\n",
       "<style scoped>\n",
       "    .dataframe tbody tr th:only-of-type {\n",
       "        vertical-align: middle;\n",
       "    }\n",
       "\n",
       "    .dataframe tbody tr th {\n",
       "        vertical-align: top;\n",
       "    }\n",
       "\n",
       "    .dataframe thead th {\n",
       "        text-align: right;\n",
       "    }\n",
       "</style>\n",
       "<table border=\"1\" class=\"dataframe\">\n",
       "  <thead>\n",
       "    <tr style=\"text-align: right;\">\n",
       "      <th></th>\n",
       "      <th>Zone</th>\n",
       "      <th>proportion perts/disponibilité_int en %</th>\n",
       "    </tr>\n",
       "  </thead>\n",
       "  <tbody>\n",
       "    <tr>\n",
       "      <th>141</th>\n",
       "      <td>Sierra Leone</td>\n",
       "      <td>33.0</td>\n",
       "    </tr>\n",
       "    <tr>\n",
       "      <th>57</th>\n",
       "      <td>Ghana</td>\n",
       "      <td>19.0</td>\n",
       "    </tr>\n",
       "    <tr>\n",
       "      <th>30</th>\n",
       "      <td>Cameroun</td>\n",
       "      <td>15.0</td>\n",
       "    </tr>\n",
       "    <tr>\n",
       "      <th>5</th>\n",
       "      <td>Angola</td>\n",
       "      <td>15.0</td>\n",
       "    </tr>\n",
       "    <tr>\n",
       "      <th>46</th>\n",
       "      <td>Dominique</td>\n",
       "      <td>14.0</td>\n",
       "    </tr>\n",
       "    <tr>\n",
       "      <th>61</th>\n",
       "      <td>Guinée</td>\n",
       "      <td>13.0</td>\n",
       "    </tr>\n",
       "    <tr>\n",
       "      <th>93</th>\n",
       "      <td>Malawi</td>\n",
       "      <td>12.0</td>\n",
       "    </tr>\n",
       "    <tr>\n",
       "      <th>155</th>\n",
       "      <td>Togo</td>\n",
       "      <td>12.0</td>\n",
       "    </tr>\n",
       "    <tr>\n",
       "      <th>24</th>\n",
       "      <td>Bulgarie</td>\n",
       "      <td>12.0</td>\n",
       "    </tr>\n",
       "    <tr>\n",
       "      <th>27</th>\n",
       "      <td>Bénin</td>\n",
       "      <td>11.0</td>\n",
       "    </tr>\n",
       "  </tbody>\n",
       "</table>\n",
       "</div>"
      ],
      "text/plain": [
       "             Zone  proportion perts/disponibilité_int en %\n",
       "141  Sierra Leone                                     33.0\n",
       "57          Ghana                                     19.0\n",
       "30       Cameroun                                     15.0\n",
       "5          Angola                                     15.0\n",
       "46      Dominique                                     14.0\n",
       "61         Guinée                                     13.0\n",
       "93         Malawi                                     12.0\n",
       "155          Togo                                     12.0\n",
       "24       Bulgarie                                     12.0\n",
       "27          Bénin                                     11.0"
      ]
     },
     "execution_count": 18,
     "metadata": {},
     "output_type": "execute_result"
    }
   ],
   "source": [
    "Pertes_Pays = dispo_alimentaire.groupby('Zone',as_index= False)[ 'Pertes'].sum()\n",
    "dispo_Aliment_Pays= dispo_alimentaire.groupby('Zone',as_index= False)[ 'Disponibilité intérieure'].sum()\n",
    "fusion_dispoAliment_pertes_pays= pd.merge(Pertes_Pays, dispo_Aliment_Pays, on='Zone')\n",
    "fusion_dispoAliment_pertes_pays['proportion perts/disponibilité_int en %']=fusion_dispoAliment_pertes_pays['Pertes']*100/fusion_dispoAliment_pertes_pays['Disponibilité intérieure']\n",
    "fusion_dispoAliment_pertes_pays\n",
    "datasorted9= fusion_dispoAliment_pertes_pays.sort_values('proportion perts/disponibilité_int en %', ascending=False).head(10)\n",
    "datasorted9\n",
    "plt.bar(datasorted9['Zone'], datasorted9['proportion perts/disponibilité_int en %'])\n",
    "plt.xticks(rotation=90)\n",
    "plt.title('proportion des pertes par rapport à la disponibilité interieure par pays')\n",
    "plt.xlabel(\"Pays\")\n",
    "plt.ylabel(\"Proportion %\")\n",
    "plt.show()\n",
    "datasorted9[['Zone','proportion perts/disponibilité_int en %']].round().head(10)\n",
    "\n",
    "# on remarque que des pays qui souffre déjà de la famine ont de grande proportion de pertes par rapport à leur disponibilité intérieur"
   ]
  },
  {
   "cell_type": "markdown",
   "id": "89090615-9047-41a2-9630-235ff9e9dbc1",
   "metadata": {},
   "source": [
    "##  Les requêtes en rapport avec Julien"
   ]
  },
  {
   "cell_type": "markdown",
   "id": "ad82a84e-b5a8-45c4-89ce-1f9ca44b7787",
   "metadata": {},
   "source": [
    "### l’utilisation des céréales, notamment la répartition entre l’alimentation humaine  et l’alimentation pour animaux"
   ]
  },
  {
   "cell_type": "code",
   "execution_count": 19,
   "id": "b311dabd-7a10-420b-9353-3c44911d0a60",
   "metadata": {},
   "outputs": [
    {
     "name": "stdout",
     "output_type": "stream",
     "text": [
      "l utilisation des céréales en alimentation animales présentent 43.0 % de la disponibilité intérieur total des cereales\n"
     ]
    }
   ],
   "source": [
    "cereales=['Riz','Orge','Maïs','Seigle','Avoine','Millet','Sorgho','Céréales, Autres','Blé']\n",
    "dispo_interieur_cereale=dispo_alimentaire.loc[dispo_alimentaire['Produit'].isin(cereales), ('Disponibilité intérieure')].sum()\n",
    "aliments_animaux=dispo_alimentaire.loc[dispo_alimentaire['Produit'].isin(cereales), ('Aliments pour animaux')].sum()\n",
    "pourcentage_aliments_animeaux = (aliments_animaux*100/dispo_interieur_cereale).round()\n",
    "pourcentage_aliments_animeaux\n",
    "print('l utilisation des céréales en alimentation animales présentent',pourcentage_aliments_animeaux,'% de la disponibilité intérieur total des cereales')"
   ]
  },
  {
   "cell_type": "code",
   "execution_count": 20,
   "id": "d4df57d2-9b7f-4489-9121-769d3872c6f8",
   "metadata": {},
   "outputs": [
    {
     "name": "stdout",
     "output_type": "stream",
     "text": [
      "l utilisation des céréales en nourriture présentent 34.0 % de la disponibilité intérieur total des cereales\n"
     ]
    }
   ],
   "source": [
    "nourriture=dispo_alimentaire.loc[dispo_alimentaire['Produit'].isin(cereales), ('Nourriture')].sum()\n",
    "pourcentage_aliments_nourriture=(nourriture*100/dispo_interieur_cereale).round()\n",
    "pourcentage_aliments_nourriture\n",
    "print('l utilisation des céréales en nourriture présentent',pourcentage_aliments_nourriture,'% de la disponibilité intérieur total des cereales')"
   ]
  },
  {
   "cell_type": "code",
   "execution_count": 21,
   "id": "19440038-3b75-4605-9b63-16b59fb60800",
   "metadata": {},
   "outputs": [
    {
     "data": {
      "text/plain": [
       "Text(0.5, 1.0, 'utilisation des céréales')"
      ]
     },
     "execution_count": 21,
     "metadata": {},
     "output_type": "execute_result"
    },
    {
     "data": {
      "image/png": "[encoded data removed]",
      "text/plain": [
       "<Figure size 432x288 with 1 Axes>"
      ]
     },
     "metadata": {},
     "output_type": "display_data"
    }
   ],
   "source": [
    "data_thailande=[pourcentage_aliments_animeaux,pourcentage_aliments_nourriture,100-pourcentage_aliments_nourriture-pourcentage_aliments_animeaux]\n",
    "labels=['l’alimentation animale','nourriture','autre']\n",
    "plt.pie(data_thailande, labels=labels, autopct='%.2f%%')\n",
    "plt.title('utilisation des céréales')\n",
    "\n",
    "# dispo interieur =importation+ production + variation de stock\n",
    "# dispo interieur = alimentaion animal + pertes + semences + nourriture+traitement + autre utilisations\n"
   ]
  },
  {
   "cell_type": "markdown",
   "id": "41bdc330-549c-46a9-9996-c9bcb5c09743",
   "metadata": {},
   "source": [
    "### utilisation du manioc par la Thaïlande"
   ]
  },
  {
   "cell_type": "code",
   "execution_count": 22,
   "id": "dfef39cd-9951-418b-b6e6-daa64fd31904",
   "metadata": {},
   "outputs": [
    {
     "name": "stdout",
     "output_type": "stream",
     "text": [
      "83.0 % de la production du manioc en Thailande est dediée à l exportation\n"
     ]
    }
   ],
   "source": [
    "production_moniac_thai=dispo_alimentaire.loc[(dispo_alimentaire['Produit']==('Manioc')) & ( dispo_alimentaire['Zone'] == 'Thaïlande'), ('Production')].sum()\n",
    "exportation_moniac_thai=dispo_alimentaire.loc[(dispo_alimentaire['Produit']==('Manioc')) & ( dispo_alimentaire['Zone'] == 'Thaïlande'), 'Exportations - Quantité'].sum()\n",
    "exportation_moniac_thai*100/production_moniac_thai\n",
    "\n",
    "print((exportation_moniac_thai*100/production_moniac_thai).round(),'% de la production du manioc en Thailande est dediée à l exportation')"
   ]
  },
  {
   "cell_type": "code",
   "execution_count": 23,
   "id": "05ae130b-23f9-4386-ab10-28225d8b7dec",
   "metadata": {},
   "outputs": [
    {
     "name": "stdout",
     "output_type": "stream",
     "text": [
      "6200000.0 est le nombre personnes en sous_nutrition en Thailande\n"
     ]
    }
   ],
   "source": [
    "nb_pop_sous_nutrition_thai = sous_nutrition.loc[(sous_nutrition['Année'] == '2016-2018')& ( sous_nutrition['Zone'] == 'Thaïlande'), 'pop_sous_nutrition'].sum() \n",
    "print(nb_pop_sous_nutrition_thai,'est le nombre personnes en sous_nutrition en Thailande')\n",
    "\n",
    "# le Thaïlande exporte une grande quantité de nourriture alors que 6 millions de personnes dans ce pays soufrent de sous-nutrition."
   ]
  },
  {
   "cell_type": "markdown",
   "id": "81f5a341-cf50-4aaf-a18f-a33a05535906",
   "metadata": {},
   "source": []
  }
 ],
 "metadata": {
  "kernelspec": {
   "display_name": "Python 3 (ipykernel)",
   "language": "python",
   "name": "python3"
  },
  "language_info": {
   "codemirror_mode": {
    "name": "ipython",
    "version": 3
   },
   "file_extension": ".py",
   "mimetype": "text/x-python",
   "name": "python",
   "nbconvert_exporter": "python",
   "pygments_lexer": "ipython3",
   "version": "3.9.12"
  }
 },
 "nbformat": 4,
 "nbformat_minor": 5
}
